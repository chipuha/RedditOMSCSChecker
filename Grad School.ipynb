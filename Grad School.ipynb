{
 "cells": [
  {
   "cell_type": "code",
   "execution_count": 11,
   "metadata": {},
   "outputs": [
    {
     "name": "stdout",
     "output_type": "stream",
     "text": [
      "chipuha\n"
     ]
    }
   ],
   "source": [
    "import praw\n",
    "import re\n",
    "import pandas as pd\n",
    "import numpy as np\n",
    "from tqdm import tqdm_notebook\n",
    "\n",
    "from configparser import ConfigParser\n",
    "config = ConfigParser()\n",
    "config.read('gradschoolconfig.ini')\n",
    "\n",
    "reddit = praw.Reddit(user_agent=config.get('main', 'user_agent'),\n",
    "                     client_id=config.get('main', 'client_id'), \n",
    "                     client_secret=config.get('main', 'client_secret'),\n",
    "                     username=config.get('main', 'username'), \n",
    "                     password=config.get('main', 'password'))\n",
    "\n",
    "print(reddit.user.me())"
   ]
  },
  {
   "cell_type": "code",
   "execution_count": 2,
   "metadata": {
    "scrolled": true
   },
   "outputs": [
    {
     "data": {
      "application/vnd.jupyter.widget-view+json": {
       "model_id": "b9bb5fddcf9242a4b95a7ea91e37d5ca",
       "version_major": 2,
       "version_minor": 0
      },
      "text/plain": [
       "HBox(children=(IntProgress(value=0, max=262), HTML(value='')))"
      ]
     },
     "metadata": {},
     "output_type": "display_data"
    },
    {
     "name": "stdout",
     "output_type": "stream",
     "text": [
      "__Status__: Applied    \n",
      "__Application Date__: 06/01/2019    \n",
      "__Decision Date__: N/A    \n",
      "__Institute Acceptance Date__: N/A    \n",
      "__Education__:    \n",
      "__Experience__:     \n",
      "__Recommendations__: 3    \n",
      "__Comments__:    \n",
      "__Status__: Applied    \n",
      "__Application Date__: 01/06/2020    \n",
      "__Decision Date__: N/A    \n",
      "__Institute Acceptance Date__: N/A    \n",
      "__Education__:    \n",
      "__Experience__:     \n",
      "__Recommendations__: 3    \n",
      "__Comments__:    \n",
      "- 2019 MA Adolescent Math Education with various specializations\n",
      "\n"
     ]
    }
   ],
   "source": [
    "submission = reddit.submission(url='https://www.reddit.com/r/OMSCS/comments/f3ihka/fall_2020_admissions_thread/')\n",
    "submission.comments.replace_more(limit=None)\n",
    "\n",
    "applications = {'Status':[], 'Application Date':[], 'Decision Date':[],\n",
    "                'Institute Acceptance Date':[], 'Education':[],'Experience':[],\n",
    "                'Recommendations':[],'Comments':[]}\n",
    "\n",
    "for comment in tqdm_notebook(submission.comments):\n",
    "    txt = comment.body\n",
    "    for line in txt.splitlines():\n",
    "        if any(key in line for key in applications.keys()):\n",
    "            split = line.split(':')\n",
    "            \n",
    "            key = split[0]\n",
    "            value = ''.join(split[1:])\n",
    "            \n",
    "            key = key.strip().strip('\\*').strip()\n",
    "            value = value.strip().strip('\\*').strip()\n",
    "            try:\n",
    "                applications[key].append(value)\n",
    "            except:\n",
    "                print(line)\n",
    "\n",
    "    maxlen = len(applications[max(applications, key=lambda k: len(applications[k]))])\n",
    "    for x in applications:\n",
    "        if len(applications[x])!=maxlen:\n",
    "            applications[x].extend([np.nan]*(maxlen-len(applications[x])))\n",
    "            \n",
    "df = pd.DataFrame(applications)"
   ]
  },
  {
   "cell_type": "code",
   "execution_count": 3,
   "metadata": {},
   "outputs": [
    {
     "name": "stdout",
     "output_type": "stream",
     "text": [
      "(204, 8)\n",
      "(202, 8)\n"
     ]
    }
   ],
   "source": [
    "df = pd.DataFrame(applications)\n",
    "print(df.shape)\n",
    "df = df.dropna(subset=['Status'])\n",
    "df.replace('',np.nan, inplace=True)\n",
    "df.dropna(how='all', inplace=True)\n",
    "df.replace('N/A',np.nan, inplace=True)\n",
    "df.replace('NA',np.nan,inplace=True)\n",
    "df.replace('n/a',np.nan,inplace=True)\n",
    "df.replace('TBD',np.nan,inplace=True)\n",
    "df['Status'] = df['Status'].str.lower()\n",
    "df['Status'] = df['Status'].map(lambda x: re.sub(r'\\W+', '', x))\n",
    "df['Status'] = df['Status'].replace({'pending':'applied','appliedpending':'applied','acceptedholypotato':'accepted',\n",
    "                      'acceptedbydepartment':'accepted','applieddeptdecisionmade':'applied'})\n",
    "df.loc[df['Application Date'].str.contains('[a-zA-Z]',na=False),'Application Date']=np.nan\n",
    "df.loc[df['Decision Date'].str.contains('[a-zA-Z]',na=False),'Decision Date']=np.nan\n",
    "df.loc[df['Institute Acceptance Date'].str.contains('[a-zA-Z]',na=False),'Institute Acceptance Date']=np.nan\n",
    "df['Application Date'] = df['Application Date'].str.strip('<>')\n",
    "df['Decision Date'] = df['Decision Date'].str.strip('<>')\n",
    "df['Institute Acceptance Date']=df['Institute Acceptance Date'].str.strip('<>')\n",
    "df['Application Date'].replace('27/20/20',np.nan,inplace=True)\n",
    "df['Application Date'] = pd.to_datetime(df['Application Date'])\n",
    "df['Decision Date'].replace('04/14/3020','04/14/2020', inplace=True)\n",
    "df['Decision Date'].replace('04/09','04/09/2020', inplace=True)\n",
    "df['Decision Date'].replace('4/15/2015',np.nan, inplace=True)\n",
    "df['Decision Date'] = pd.to_datetime(df['Decision Date'])\n",
    "df['Institute Acceptance Date'] = pd.to_datetime(df['Institute Acceptance Date'])\n",
    "\n",
    "\n",
    "print(df.shape)"
   ]
  },
  {
   "cell_type": "code",
   "execution_count": 4,
   "metadata": {},
   "outputs": [
    {
     "data": {
      "text/html": [
       "<div>\n",
       "<style scoped>\n",
       "    .dataframe tbody tr th:only-of-type {\n",
       "        vertical-align: middle;\n",
       "    }\n",
       "\n",
       "    .dataframe tbody tr th {\n",
       "        vertical-align: top;\n",
       "    }\n",
       "\n",
       "    .dataframe thead th {\n",
       "        text-align: right;\n",
       "    }\n",
       "</style>\n",
       "<table border=\"1\" class=\"dataframe\">\n",
       "  <thead>\n",
       "    <tr style=\"text-align: right;\">\n",
       "      <th></th>\n",
       "      <th>Status</th>\n",
       "      <th>Application Date</th>\n",
       "      <th>Decision Date</th>\n",
       "      <th>Institute Acceptance Date</th>\n",
       "      <th>Education</th>\n",
       "      <th>Experience</th>\n",
       "      <th>Recommendations</th>\n",
       "      <th>Comments</th>\n",
       "    </tr>\n",
       "  </thead>\n",
       "  <tbody>\n",
       "    <tr>\n",
       "      <th>0</th>\n",
       "      <td>accepted</td>\n",
       "      <td>2019-11-07</td>\n",
       "      <td>2020-04-02</td>\n",
       "      <td>NaT</td>\n",
       "      <td>Mid-tier state school, BS, EE, \\~2.6 GPA</td>\n",
       "      <td>1 Year, ML Engineer at Fortune 10</td>\n",
       "      <td>3</td>\n",
       "      <td>Hopefully gives some hope to my fellow landfil...</td>\n",
       "    </tr>\n",
       "    <tr>\n",
       "      <th>1</th>\n",
       "      <td>applied</td>\n",
       "      <td>2020-02-25</td>\n",
       "      <td>NaT</td>\n",
       "      <td>NaT</td>\n",
       "      <td>NaN</td>\n",
       "      <td>NaN</td>\n",
       "      <td>NaN</td>\n",
       "      <td>NaN</td>\n",
       "    </tr>\n",
       "    <tr>\n",
       "      <th>2</th>\n",
       "      <td>accepted</td>\n",
       "      <td>2020-02-24</td>\n",
       "      <td>2020-04-03</td>\n",
       "      <td>NaT</td>\n",
       "      <td>BS Statistics and Data Analytics, 3.72, Large ...</td>\n",
       "      <td>NaN</td>\n",
       "      <td>3</td>\n",
       "      <td>Pretty shocked I heard back so soon, but super...</td>\n",
       "    </tr>\n",
       "    <tr>\n",
       "      <th>3</th>\n",
       "      <td>accepted</td>\n",
       "      <td>2019-08-25</td>\n",
       "      <td>NaT</td>\n",
       "      <td>2020-03-31</td>\n",
       "      <td>NaN</td>\n",
       "      <td>NaN</td>\n",
       "      <td>3</td>\n",
       "      <td>Fingers crossed.</td>\n",
       "    </tr>\n",
       "    <tr>\n",
       "      <th>4</th>\n",
       "      <td>accepted</td>\n",
       "      <td>2020-01-27</td>\n",
       "      <td>2020-04-07</td>\n",
       "      <td>NaT</td>\n",
       "      <td>University of Waterloo, Bachelor of Mathematic...</td>\n",
       "      <td>2 years of internships at various banks and te...</td>\n",
       "      <td>CS professor from undergrad, manager from an i...</td>\n",
       "      <td>So excited to start the learning grind again!!...</td>\n",
       "    </tr>\n",
       "  </tbody>\n",
       "</table>\n",
       "</div>"
      ],
      "text/plain": [
       "     Status Application Date Decision Date Institute Acceptance Date  \\\n",
       "0  accepted       2019-11-07    2020-04-02                       NaT   \n",
       "1   applied       2020-02-25           NaT                       NaT   \n",
       "2  accepted       2020-02-24    2020-04-03                       NaT   \n",
       "3  accepted       2019-08-25           NaT                2020-03-31   \n",
       "4  accepted       2020-01-27    2020-04-07                       NaT   \n",
       "\n",
       "                                           Education  \\\n",
       "0           Mid-tier state school, BS, EE, \\~2.6 GPA   \n",
       "1                                                NaN   \n",
       "2  BS Statistics and Data Analytics, 3.72, Large ...   \n",
       "3                                                NaN   \n",
       "4  University of Waterloo, Bachelor of Mathematic...   \n",
       "\n",
       "                                          Experience  \\\n",
       "0                  1 Year, ML Engineer at Fortune 10   \n",
       "1                                                NaN   \n",
       "2                                                NaN   \n",
       "3                                                NaN   \n",
       "4  2 years of internships at various banks and te...   \n",
       "\n",
       "                                     Recommendations  \\\n",
       "0                                                  3   \n",
       "1                                                NaN   \n",
       "2                                                  3   \n",
       "3                                                  3   \n",
       "4  CS professor from undergrad, manager from an i...   \n",
       "\n",
       "                                            Comments  \n",
       "0  Hopefully gives some hope to my fellow landfil...  \n",
       "1                                                NaN  \n",
       "2  Pretty shocked I heard back so soon, but super...  \n",
       "3                                   Fingers crossed.  \n",
       "4  So excited to start the learning grind again!!...  "
      ]
     },
     "execution_count": 4,
     "metadata": {},
     "output_type": "execute_result"
    }
   ],
   "source": [
    "df.head()"
   ]
  },
  {
   "cell_type": "code",
   "execution_count": 5,
   "metadata": {},
   "outputs": [
    {
     "data": {
      "text/html": [
       "<div>\n",
       "<style scoped>\n",
       "    .dataframe tbody tr th:only-of-type {\n",
       "        vertical-align: middle;\n",
       "    }\n",
       "\n",
       "    .dataframe tbody tr th {\n",
       "        vertical-align: top;\n",
       "    }\n",
       "\n",
       "    .dataframe thead th {\n",
       "        text-align: right;\n",
       "    }\n",
       "</style>\n",
       "<table border=\"1\" class=\"dataframe\">\n",
       "  <thead>\n",
       "    <tr style=\"text-align: right;\">\n",
       "      <th></th>\n",
       "      <th>counts</th>\n",
       "      <th>percentage</th>\n",
       "    </tr>\n",
       "  </thead>\n",
       "  <tbody>\n",
       "    <tr>\n",
       "      <th>accepted</th>\n",
       "      <td>95</td>\n",
       "      <td>0.470297</td>\n",
       "    </tr>\n",
       "    <tr>\n",
       "      <th>applied</th>\n",
       "      <td>93</td>\n",
       "      <td>0.460396</td>\n",
       "    </tr>\n",
       "    <tr>\n",
       "      <th>todeptforreview</th>\n",
       "      <td>10</td>\n",
       "      <td>0.049505</td>\n",
       "    </tr>\n",
       "    <tr>\n",
       "      <th>rejected</th>\n",
       "      <td>4</td>\n",
       "      <td>0.019802</td>\n",
       "    </tr>\n",
       "  </tbody>\n",
       "</table>\n",
       "</div>"
      ],
      "text/plain": [
       "                 counts  percentage\n",
       "accepted             95    0.470297\n",
       "applied              93    0.460396\n",
       "todeptforreview      10    0.049505\n",
       "rejected              4    0.019802"
      ]
     },
     "execution_count": 5,
     "metadata": {},
     "output_type": "execute_result"
    }
   ],
   "source": [
    "summarydf = pd.DataFrame()\n",
    "summarydf['counts'] = df['Status'].value_counts()\n",
    "summarydf['percentage']=df['Status'].value_counts(normalize=True)\n",
    "summarydf"
   ]
  },
  {
   "cell_type": "code",
   "execution_count": 11,
   "metadata": {},
   "outputs": [
    {
     "data": {
      "text/plain": [
       "Text(0, 0.5, 'Application Date')"
      ]
     },
     "execution_count": 11,
     "metadata": {},
     "output_type": "execute_result"
    },
    {
     "data": {
      "image/png": "[encoded data removed]",
      "text/plain": [
       "<Figure size 432x288 with 1 Axes>"
      ]
     },
     "metadata": {
      "needs_background": "light"
     },
     "output_type": "display_data"
    }
   ],
   "source": [
    "t = df.dropna(subset=['Application Date','Decision Date'])\n",
    "ax=t.plot('Decision Date','Application Date', style='.',legend=False)\n",
    "ax.set_ylabel('Application Date')"
   ]
  },
  {
   "cell_type": "code",
   "execution_count": 7,
   "metadata": {},
   "outputs": [
    {
     "data": {
      "text/plain": [
       "Text(0, 0.5, 'Application Date')"
      ]
     },
     "execution_count": 7,
     "metadata": {},
     "output_type": "execute_result"
    },
    {
     "data": {
      "image/png": "[encoded data removed]",
      "text/plain": [
       "<Figure size 432x288 with 1 Axes>"
      ]
     },
     "metadata": {
      "needs_background": "light"
     },
     "output_type": "display_data"
    }
   ],
   "source": [
    "t = df.dropna(subset=['Application Date','Institute Acceptance Date'])\n",
    "ax=t.plot('Institute Acceptance Date','Application Date', style='.',legend=False)\n",
    "ax.set_ylabel('Application Date')"
   ]
  },
  {
   "cell_type": "code",
   "execution_count": 8,
   "metadata": {
    "scrolled": false
   },
   "outputs": [
    {
     "data": {
      "text/plain": [
       "<matplotlib.axes._subplots.AxesSubplot at 0x1faa4468b00>"
      ]
     },
     "execution_count": 8,
     "metadata": {},
     "output_type": "execute_result"
    },
    {
     "data": {
      "image/png": "[encoded data removed]",
      "text/plain": [
       "<Figure size 792x360 with 1 Axes>"
      ]
     },
     "metadata": {
      "needs_background": "light"
     },
     "output_type": "display_data"
    }
   ],
   "source": [
    "df['Application Date'].hist(figsize=(11,5))"
   ]
  },
  {
   "cell_type": "code",
   "execution_count": 9,
   "metadata": {
    "scrolled": true
   },
   "outputs": [
    {
     "data": {
      "text/plain": [
       "<matplotlib.axes._subplots.AxesSubplot at 0x1faa6a240b8>"
      ]
     },
     "execution_count": 9,
     "metadata": {},
     "output_type": "execute_result"
    },
    {
     "data": {
      "image/png": "[encoded data removed]",
      "text/plain": [
       "<Figure size 792x360 with 1 Axes>"
      ]
     },
     "metadata": {
      "needs_background": "light"
     },
     "output_type": "display_data"
    }
   ],
   "source": [
    "df['Decision Date'].hist(figsize=(11,5))"
   ]
  },
  {
   "cell_type": "code",
   "execution_count": 10,
   "metadata": {
    "scrolled": true
   },
   "outputs": [
    {
     "data": {
      "text/plain": [
       "<matplotlib.axes._subplots.AxesSubplot at 0x1faa69372b0>"
      ]
     },
     "execution_count": 10,
     "metadata": {},
     "output_type": "execute_result"
    },
    {
     "data": {
      "image/png": "[encoded data removed]",
      "text/plain": [
       "<Figure size 792x360 with 1 Axes>"
      ]
     },
     "metadata": {
      "needs_background": "light"
     },
     "output_type": "display_data"
    }
   ],
   "source": [
    "df['Institute Acceptance Date'].hist(figsize=(11,5))"
   ]
  },
  {
   "cell_type": "code",
   "execution_count": 12,
   "metadata": {},
   "outputs": [
    {
     "data": {
      "text/html": [
       "<div>\n",
       "<style scoped>\n",
       "    .dataframe tbody tr th:only-of-type {\n",
       "        vertical-align: middle;\n",
       "    }\n",
       "\n",
       "    .dataframe tbody tr th {\n",
       "        vertical-align: top;\n",
       "    }\n",
       "\n",
       "    .dataframe thead th {\n",
       "        text-align: right;\n",
       "    }\n",
       "</style>\n",
       "<table border=\"1\" class=\"dataframe\">\n",
       "  <thead>\n",
       "    <tr style=\"text-align: right;\">\n",
       "      <th></th>\n",
       "      <th>Status</th>\n",
       "      <th>Application Date</th>\n",
       "      <th>Decision Date</th>\n",
       "      <th>Institute Acceptance Date</th>\n",
       "      <th>Education</th>\n",
       "      <th>Experience</th>\n",
       "      <th>Recommendations</th>\n",
       "      <th>Comments</th>\n",
       "    </tr>\n",
       "  </thead>\n",
       "  <tbody>\n",
       "    <tr>\n",
       "      <th>count</th>\n",
       "      <td>202</td>\n",
       "      <td>190</td>\n",
       "      <td>82</td>\n",
       "      <td>6</td>\n",
       "      <td>78</td>\n",
       "      <td>115</td>\n",
       "      <td>163</td>\n",
       "      <td>95</td>\n",
       "    </tr>\n",
       "    <tr>\n",
       "      <th>unique</th>\n",
       "      <td>4</td>\n",
       "      <td>86</td>\n",
       "      <td>15</td>\n",
       "      <td>5</td>\n",
       "      <td>78</td>\n",
       "      <td>115</td>\n",
       "      <td>106</td>\n",
       "      <td>95</td>\n",
       "    </tr>\n",
       "    <tr>\n",
       "      <th>top</th>\n",
       "      <td>accepted</td>\n",
       "      <td>2020-02-29 00:00:00</td>\n",
       "      <td>2020-04-07 00:00:00</td>\n",
       "      <td>2020-04-13 00:00:00</td>\n",
       "      <td>Texas University, BS, Computer Science, 3.34/4.0</td>\n",
       "      <td>3 years of work experience in a startup as Dat...</td>\n",
       "      <td>3</td>\n",
       "      <td>Found out about this program last Friday and p...</td>\n",
       "    </tr>\n",
       "    <tr>\n",
       "      <th>freq</th>\n",
       "      <td>95</td>\n",
       "      <td>20</td>\n",
       "      <td>12</td>\n",
       "      <td>2</td>\n",
       "      <td>1</td>\n",
       "      <td>1</td>\n",
       "      <td>54</td>\n",
       "      <td>1</td>\n",
       "    </tr>\n",
       "    <tr>\n",
       "      <th>first</th>\n",
       "      <td>NaN</td>\n",
       "      <td>2019-01-10 00:00:00</td>\n",
       "      <td>2020-03-18 00:00:00</td>\n",
       "      <td>2020-03-31 00:00:00</td>\n",
       "      <td>NaN</td>\n",
       "      <td>NaN</td>\n",
       "      <td>NaN</td>\n",
       "      <td>NaN</td>\n",
       "    </tr>\n",
       "    <tr>\n",
       "      <th>last</th>\n",
       "      <td>NaN</td>\n",
       "      <td>2020-10-12 00:00:00</td>\n",
       "      <td>2020-04-27 00:00:00</td>\n",
       "      <td>2020-04-13 00:00:00</td>\n",
       "      <td>NaN</td>\n",
       "      <td>NaN</td>\n",
       "      <td>NaN</td>\n",
       "      <td>NaN</td>\n",
       "    </tr>\n",
       "  </tbody>\n",
       "</table>\n",
       "</div>"
      ],
      "text/plain": [
       "          Status     Application Date        Decision Date  \\\n",
       "count        202                  190                   82   \n",
       "unique         4                   86                   15   \n",
       "top     accepted  2020-02-29 00:00:00  2020-04-07 00:00:00   \n",
       "freq          95                   20                   12   \n",
       "first        NaN  2019-01-10 00:00:00  2020-03-18 00:00:00   \n",
       "last         NaN  2020-10-12 00:00:00  2020-04-27 00:00:00   \n",
       "\n",
       "       Institute Acceptance Date  \\\n",
       "count                          6   \n",
       "unique                         5   \n",
       "top          2020-04-13 00:00:00   \n",
       "freq                           2   \n",
       "first        2020-03-31 00:00:00   \n",
       "last         2020-04-13 00:00:00   \n",
       "\n",
       "                                               Education  \\\n",
       "count                                                 78   \n",
       "unique                                                78   \n",
       "top     Texas University, BS, Computer Science, 3.34/4.0   \n",
       "freq                                                   1   \n",
       "first                                                NaN   \n",
       "last                                                 NaN   \n",
       "\n",
       "                                               Experience Recommendations  \\\n",
       "count                                                 115             163   \n",
       "unique                                                115             106   \n",
       "top     3 years of work experience in a startup as Dat...               3   \n",
       "freq                                                    1              54   \n",
       "first                                                 NaN             NaN   \n",
       "last                                                  NaN             NaN   \n",
       "\n",
       "                                                 Comments  \n",
       "count                                                  95  \n",
       "unique                                                 95  \n",
       "top     Found out about this program last Friday and p...  \n",
       "freq                                                    1  \n",
       "first                                                 NaN  \n",
       "last                                                  NaN  "
      ]
     },
     "execution_count": 12,
     "metadata": {},
     "output_type": "execute_result"
    }
   ],
   "source": [
    "df.describe()"
   ]
  }
 ],
 "metadata": {
  "kernelspec": {
   "display_name": "Python 3",
   "language": "python",
   "name": "python3"
  },
  "language_info": {
   "codemirror_mode": {
    "name": "ipython",
    "version": 3
   },
   "file_extension": ".py",
   "mimetype": "text/x-python",
   "name": "python",
   "nbconvert_exporter": "python",
   "pygments_lexer": "ipython3",
   "version": "3.6.8"
  }
 },
 "nbformat": 4,
 "nbformat_minor": 2
}
